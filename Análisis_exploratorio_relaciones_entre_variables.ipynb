{
  "nbformat": 4,
  "nbformat_minor": 0,
  "metadata": {
    "colab": {
      "provenance": []
    },
    "kernelspec": {
      "name": "python3",
      "display_name": "Python 3"
    },
    "language_info": {
      "name": "python"
    }
  },
  "cells": [
    {
      "cell_type": "code",
      "execution_count": null,
      "metadata": {
        "id": "PmJzTFm4-_ku"
      },
      "outputs": [],
      "source": [
        "# Cargo en memoria el data set iris\n",
        "from sklearn.datasets import load_iris\n",
        "iris_data = load_iris()\n",
        "iris_data"
      ]
    },
    {
      "cell_type": "code",
      "source": [
        "import pandas as pd\n",
        "\n",
        "# Convierto los datos a un dataframe de pandas\n",
        "iris_df = pd.DataFrame(iris_data.data, columns=iris_data.feature_names)\n",
        "iris_df"
      ],
      "metadata": {
        "id": "jtczZuk6_SPY"
      },
      "execution_count": null,
      "outputs": []
    },
    {
      "cell_type": "code",
      "source": [
        "# realizo un análisis descriptivo del data set\n",
        "iris_df.info()"
      ],
      "metadata": {
        "id": "dDj9IqA5_rVy"
      },
      "execution_count": null,
      "outputs": []
    },
    {
      "cell_type": "code",
      "source": [
        "iris_df['sepal length (cm)']"
      ],
      "metadata": {
        "id": "agaqFpu3B7AL"
      },
      "execution_count": null,
      "outputs": []
    },
    {
      "cell_type": "code",
      "source": [
        "iris_df.iloc[3,2]"
      ],
      "metadata": {
        "id": "m_A32aRdC7WR"
      },
      "execution_count": null,
      "outputs": []
    },
    {
      "cell_type": "code",
      "source": [
        "import matplotlib.pyplot as plt\n",
        "import seaborn as sns\n",
        "\n",
        "# Histograma de una variable numérica\n",
        "plt.figure(figsize=(8, 6))\n",
        "sns.histplot(iris_df['sepal length (cm)'], bins=30, kde=True)\n",
        "plt.title('Distribución de la longitud en cms de los Sépalos')\n",
        "plt.xlabel('Valor')\n",
        "plt.ylabel('Frecuencia')\n",
        "plt.show()"
      ],
      "metadata": {
        "id": "-RHcLmJnFkWG"
      },
      "execution_count": null,
      "outputs": []
    },
    {
      "cell_type": "code",
      "source": [
        "# Diagrama de dispersión de dos variables numéricas\n",
        "plt.figure(figsize=(8, 6))\n",
        "sns.scatterplot(x=iris_df['sepal length (cm)'], y=iris_df['petal length (cm)'])\n",
        "plt.title('Diagrama de dispersión entre Sépalos y Pétalos')\n",
        "plt.xlabel('Sépalo (cms)')\n",
        "plt.ylabel('Pétalo (cms)')\n",
        "plt.show()"
      ],
      "metadata": {
        "id": "SUJQ2aahGP8j"
      },
      "execution_count": null,
      "outputs": []
    },
    {
      "cell_type": "code",
      "source": [
        "# Mapa de calor de la matriz de correlación\n",
        "plt.figure(figsize=(10, 8))\n",
        "sns.heatmap(iris_df.corr(), annot=True, cmap='coolwarm', fmt=\".2f\")\n",
        "plt.title('Mapa de calor de la matriz de correlación')\n",
        "plt.show()"
      ],
      "metadata": {
        "id": "JK-TwolHHgjj"
      },
      "execution_count": null,
      "outputs": []
    },
    {
      "cell_type": "markdown",
      "source": [
        "Realizaremo ahora un análisis exploratorio utilizando el **Gráfico de Búrbujas**,  técnica de visualización de datos que se utiliza para representar información en un gráfico bidimensional mediante el uso de burbujas o círculos de diferentes tamaños y colores. Esta técnica es útil para visualizar tres variables simultáneamente: dos variables numéricas que se representan en los ejes x e y del gráfico, y una tercera variable que se representa mediante el tamaño de las burbujas y opcionalmente el color.\n",
        "\n",
        "**DataSet**: Utilizaremos **Vino**\n",
        "\n",
        "\n",
        "\n"
      ],
      "metadata": {
        "id": "DHxItShlScvR"
      }
    },
    {
      "cell_type": "code",
      "source": [
        "import matplotlib.pyplot as plt\n",
        "from sklearn.datasets import load_wine\n",
        "\n",
        "# Cargamos el conjunto de datos de vinos\n",
        "data = load_wine()\n",
        "X = data.data  # Características\n",
        "y = data.target  # Etiquetas"
      ],
      "metadata": {
        "id": "wudZjguxSbsR"
      },
      "execution_count": null,
      "outputs": []
    },
    {
      "cell_type": "code",
      "source": [
        "# Seleccionamos dos características o features (columnas) para representar en el gráfico de burbujas\n",
        "feature1_index = 0  # Índice de la primera característica\n",
        "feature2_index = 6  # Índice de la segunda característica"
      ],
      "metadata": {
        "id": "qTyIqv04S1yp"
      },
      "execution_count": null,
      "outputs": []
    },
    {
      "cell_type": "code",
      "source": [
        "# Extraemos las características (features) seleccionadas\n",
        "x = X[:, feature1_index]\n",
        "y = X[:, feature2_index]\n",
        "\n",
        "# Tamaño de las burbujas basado en las etiquetas de clase\n",
        "z = y"
      ],
      "metadata": {
        "id": "qzuIV1VoZ4f4"
      },
      "execution_count": null,
      "outputs": []
    },
    {
      "cell_type": "code",
      "source": [
        "# Creamos el gráfico de burbujas\n",
        "plt.figure(figsize=(10, 6))\n",
        "plt.scatter(x, y, s=z*500, c=y, cmap='viridis', alpha=0.6)  # Ajustamos el tamaño de las burbujas según las etiquetas de clase\n",
        "\n",
        "# Personalizamos el gráfico\n",
        "plt.title('Gráfico de Burbujas del Conjunto de Datos Wine')\n",
        "plt.xlabel(data.feature_names[feature1_index])  # Nombre de la primera característica\n",
        "plt.ylabel(data.feature_names[feature2_index])  # Nombre de la segunda característica\n",
        "plt.colorbar(label='Clases')  # Barra de colores para representar las clases"
      ],
      "metadata": {
        "id": "0INS6l93Z8u_"
      },
      "execution_count": null,
      "outputs": []
    }
  ]
}