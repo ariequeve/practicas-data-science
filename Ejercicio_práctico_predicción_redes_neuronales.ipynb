{
  "nbformat": 4,
  "nbformat_minor": 0,
  "metadata": {
    "colab": {
      "provenance": []
    },
    "kernelspec": {
      "name": "python3",
      "display_name": "Python 3"
    },
    "language_info": {
      "name": "python"
    }
  },
  "cells": [
    {
      "cell_type": "markdown",
      "source": [
        "# Ejemplo práctico\n",
        "Suponiendo que tenemos los siguientes valores de entrada para una configuración de espacio de trabajo específica:\n",
        "\n",
        "Altura de la silla: 45 cm\n",
        "Altura del escritorio: 75 cm\n",
        "Distancia de la pantalla: 60 cm\n",
        "Calidad de iluminación: Buena (codificada como `[1, 0, 0]` para codificación one-hot)\n",
        "Accesorios ergonómicos: Sí (codificado como 1)\n",
        "\n",
        "El vector de entrada después de la codificación podría verse así:\n",
        "\n",
        "`x=[45,75,60,1,0,0,1]`"
      ],
      "metadata": {
        "id": "kmSCn-S96hjb"
      }
    },
    {
      "cell_type": "code",
      "execution_count": 22,
      "metadata": {
        "id": "yru5zkP95Jg9"
      },
      "outputs": [],
      "source": [
        "import numpy as np\n",
        "\n",
        "# Input features (utilizamos los siguientes valores de ejemplo)\n",
        "x = np.array([45, 75, 60, 1, 0, 0, 1])"
      ]
    },
    {
      "cell_type": "code",
      "source": [
        "# Pesos y sesgos para la capa oculta (inicializados aleatoriamente para este ejemplo)\n",
        "W_hidden = np.random.randn(3, 7)  # 3 neuronas, 7 características de entrada (input features)\n",
        "b_hidden = np.random.randn(3)"
      ],
      "metadata": {
        "id": "8OIkuh9Y5Sfo"
      },
      "execution_count": 23,
      "outputs": []
    },
    {
      "cell_type": "code",
      "source": [
        "# Pesos y sesgos para la capa de salida\n",
        "W_output = np.random.randn(1, 3)  # 1 neuron de salida (output) , 3 neuronas ocultas (hidden neurons)\n",
        "b_output = np.random.randn(1)"
      ],
      "metadata": {
        "id": "rpFHNREP5kD9"
      },
      "execution_count": 24,
      "outputs": []
    },
    {
      "cell_type": "code",
      "source": [
        "# Activation function ReLU\n",
        "def relu(x):\n",
        "    return np.maximum(0, x)\n",
        "\n",
        "def sigmoid(x):\n",
        "    return 1 / (1 + np.exp(-x))"
      ],
      "metadata": {
        "id": "FgPWhg_L5y_p"
      },
      "execution_count": 25,
      "outputs": []
    },
    {
      "cell_type": "code",
      "source": [
        "# Retropropagación a la capa oculta\n",
        "z_hidden = np.dot(W_hidden, x) + b_hidden\n",
        "a_hidden = relu(z_hidden)"
      ],
      "metadata": {
        "id": "kAdnocxG57bu"
      },
      "execution_count": 26,
      "outputs": []
    },
    {
      "cell_type": "code",
      "source": [
        "# Retropropagación a la capa de salida\n",
        "z_output = np.dot(W_output, a_hidden) + b_output\n",
        "y_hat = sigmoid(z_output)"
      ],
      "metadata": {
        "id": "raZ73uz86I_2"
      },
      "execution_count": 27,
      "outputs": []
    },
    {
      "cell_type": "code",
      "source": [
        "print(\"Probabilidad de la silla de ser ergonómica:\", y_hat)"
      ],
      "metadata": {
        "colab": {
          "base_uri": "https://localhost:8080/"
        },
        "id": "JMMR_kEl6Oz3",
        "outputId": "22150740-4300-4c0a-988b-8dc97d1ea166"
      },
      "execution_count": 28,
      "outputs": [
        {
          "output_type": "stream",
          "name": "stdout",
          "text": [
            "Probabilidad de la silla de ser ergonómica: [0.67936091]\n"
          ]
        }
      ]
    },
    {
      "cell_type": "markdown",
      "source": [
        "Este código muestra un paso directo a través de una red neuronal simple con una capa oculta y una neurona de salida. Los pesos y sesgos se inicializan aleatoriamente para este ejemplo, y las funciones de activación **ReLU** y **sigmoide** se aplican a las capas oculta y de salida, respectivamente.\n",
        "\n",
        "Al ejecutar eselte código, obtendremos una probabilidad prevista de que la configuración del espacio de trabajo sea ergonómica. Los valores de las ponderaciones y los sesgos normalmente se aprenderían durante el proceso de capacitación, utilizando ejemplos etiquetados y ajustando las ponderaciones para minimizar el error de predicción."
      ],
      "metadata": {
        "id": "Sx4dR1Jw7KAe"
      }
    }
  ]
}