{
  "nbformat": 4,
  "nbformat_minor": 0,
  "metadata": {
    "colab": {
      "provenance": []
    },
    "kernelspec": {
      "name": "python3",
      "display_name": "Python 3"
    },
    "language_info": {
      "name": "python"
    }
  },
  "cells": [
    {
      "cell_type": "code",
      "execution_count": null,
      "metadata": {
        "colab": {
          "base_uri": "https://localhost:8080/"
        },
        "id": "sjxGQBaIeWGU",
        "outputId": "87dda8f0-8211-41dd-8105-d97f7ac51138"
      },
      "outputs": [
        {
          "output_type": "stream",
          "name": "stdout",
          "text": [
            "Mounted at /content/drive\n"
          ]
        }
      ],
      "source": [
        "# Conectar con drive\n",
        "from google.colab import drive\n",
        "drive.mount('/content/drive')"
      ]
    },
    {
      "cell_type": "code",
      "source": [
        "file_path = 'drive/MyDrive/Datasets/clase-1-responses.csv'"
      ],
      "metadata": {
        "id": "d9AoUbHnf_Hb"
      },
      "execution_count": null,
      "outputs": []
    },
    {
      "cell_type": "code",
      "source": [
        "file_path = '2024-03-22-output.csv'"
      ],
      "metadata": {
        "id": "ct76MRZMeAJM"
      },
      "execution_count": null,
      "outputs": []
    },
    {
      "cell_type": "code",
      "source": [
        "with open(file_path, 'r') as file:\n",
        "  lines = file.readlines()\n",
        "\n",
        "  # Separo cada línea por coma para obtener los campos\n",
        "  data = [line.strip().split(',') for line in lines]\n"
      ],
      "metadata": {
        "id": "7wmW5NnGoP-h"
      },
      "execution_count": null,
      "outputs": []
    },
    {
      "cell_type": "code",
      "source": [
        "print(data)"
      ],
      "metadata": {
        "id": "Zp8J1j8XoUG3"
      },
      "execution_count": null,
      "outputs": []
    },
    {
      "cell_type": "code",
      "source": [
        "print(data[1])"
      ],
      "metadata": {
        "id": "WRcIIluSpYfa"
      },
      "execution_count": null,
      "outputs": []
    },
    {
      "cell_type": "markdown",
      "source": [
        "# Consigna: Limpieza de datos\n",
        "\n",
        "Escribir en Python un programa que sea capaz de abrir un archivo .csv y procesarlo de forma tal que, sin importar la cantidad de columnas y filas del mismo sea capaz de:\n",
        "\n",
        "* 1) Eliminar filas si tienen algún valor faltante\n",
        "* 2) Eliminar espacios al principio o final de los valores del tipo texto\n",
        "* 3) Modificar los textos para que siempre comiencen con mayúscula\n",
        "* 4) Cambiar el formato fecha de una columna tipo timestamp para que quede solo como AAAA/MM/DD\n",
        "* 5) Detecte y elimine registros duplicados\n",
        "* 6) Proponer e implementar otro tipo de limpieza, justificando su posible utilidad.\n",
        "\n",
        "La salida deberá guardarse en un archivo con el nombre '[FECHA]-output.csv' donde [FECHA] se tiene que corresponder con la del día de ejecución, según el siguiente formato AAAA-MM-DD\n"
      ],
      "metadata": {
        "id": "IN8MTYrHTwTo"
      }
    },
    {
      "cell_type": "code",
      "source": [
        "# prompt: generar un archivo csv de 10 registros con 5 campos  sobre animales\n",
        "\n",
        "import csv\n",
        "import datetime\n",
        "\n",
        "# Generar una lista de 10 registros con 5 campos\n",
        "animals = [\n",
        "    ['Perro', 'Macho', 'Labrador', 5, 'Negro'],\n",
        "    ['Gato', 'Hembra', 'Siamés', 3, 'Blanco'],\n",
        "    ['Conejo', 'Macho', 'Angora', 2, 'Gris'],\n",
        "    ['Hámster', 'Hembra', 'Sirio', 1, 'Marrón'],\n",
        "    ['Loro', 'Macho', 'Guacamayo', 10, 'Verde'],\n",
        "    ['Serpiente', 'Hembra', 'Pitón', 5, 'Amarillo'],\n",
        "    ['Tortuga', 'Macho', 'Galápago', 100, 'Marrón'],\n",
        "    ['Iguana', 'Hembra', 'Verde', 5, 'Verde'],\n",
        "    ['Pez', 'Macho', 'Betta', 2, 'Rojo'],\n",
        "    ['Caballo', 'Hembra', 'Árabe', 20, 'Negro']\n",
        "]\n",
        "\n",
        "# Obtener la fecha actual en formato AAAA-MM-DD\n",
        "today = datetime.date.today().strftime('%Y-%m-%d')\n",
        "\n",
        "# Crear el nombre del archivo de salida\n",
        "output_file = f'{today}-output.csv'\n",
        "\n",
        "# Abrir el archivo de salida en modo escritura\n",
        "with open(output_file, 'w', newline='') as csvfile:\n",
        "    # Crear el escritor de CSV\n",
        "    writer = csv.writer(csvfile)\n",
        "\n",
        "    # Escribir los encabezados de las columnas\n",
        "    writer.writerow(['Animal', 'Sexo', 'Raza', 'Edad', 'Color'])\n",
        "\n",
        "    # Escribir los registros de animales\n",
        "    for animal in animals:\n",
        "        writer.writerow(animal)\n",
        "\n",
        "print(f'Archivo de salida generado: {output_file}')\n"
      ],
      "metadata": {
        "id": "QpwcHeYBT98Z",
        "colab": {
          "base_uri": "https://localhost:8080/"
        },
        "outputId": "7196ee92-c160-4df8-c3ee-d22ff37aa8d7"
      },
      "execution_count": null,
      "outputs": [
        {
          "output_type": "stream",
          "name": "stdout",
          "text": [
            "Archivo de salida generado: 2024-03-22-output.csv\n"
          ]
        }
      ]
    },
    {
      "cell_type": "code",
      "source": [],
      "metadata": {
        "id": "bmy3TMHcbvmM"
      },
      "execution_count": null,
      "outputs": []
    },
    {
      "cell_type": "code",
      "source": [],
      "metadata": {
        "id": "DOWRhpVjxD6H"
      },
      "execution_count": null,
      "outputs": []
    }
  ]
}